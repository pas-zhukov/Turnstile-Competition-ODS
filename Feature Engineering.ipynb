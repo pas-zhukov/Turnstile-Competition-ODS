{
 "cells": [
  {
   "cell_type": "code",
   "execution_count": 1,
   "metadata": {
    "collapsed": true
   },
   "outputs": [],
   "source": [
    "import pandas as pd\n",
    "from datetime import datetime\n",
    "from some_func import get_time_of_day, holidays\n",
    "from collections import Counter\n",
    "\n",
    "\n",
    "data_train = pd.read_csv('train.csv')\n",
    "data_test = pd.read_csv('test.csv')\n",
    "\n",
    "# Преобразуем временную метку в объект datetime\n",
    "data_train['timestamp'] = pd.to_datetime(data_train['timestamp'])\n",
    "\n",
    "#Создаем признаки день недели, время суток, праздничный ли день\n",
    "data_train['day_of_the_week'] = data_train['timestamp'].dt.dayofweek\n",
    "data_train['part_of_the_day'] = data_train['timestamp'].dt.hour.apply(get_time_of_day)\n",
    "data_train['holiday'] = data_train['timestamp'].dt.date.astype(str).isin(holidays)\n",
    "\n",
    "# Создаем признак время года\n",
    "data_train['season'] = pd.cut(data_train['timestamp'].dt.month,\n",
    "                        bins=[0, 3, 6, 9, 12],\n",
    "                        labels=['winter', 'spring', 'summer', 'autumn'])\n",
    "\n",
    "# Создаем признак времени между проходами юзера через турникет\n",
    "data_train['time_between_passes'] = data_train.groupby('gate_id')['timestamp'].diff().dt.total_seconds()\n",
    "data_train['time_between_passes'] = data_train['time_between_passes'].fillna(0)\n",
    "\n",
    "user_ids = list(Counter(data_train.user_id).keys())\n",
    "data_train['Event'] = ''\n",
    "data_train['num_people'] = 1\n",
    "for idx in user_ids:\n",
    "    user_stamps = data_train.loc[(data_train['user_id'] == idx)].sort_values(by=['timestamp'])\n",
    "    im = 0\n",
    "    for i, stamp in user_stamps.iterrows():\n",
    "        print(i)\n",
    "        if im == 0:\n",
    "            stamp['Event'] = 'in'\n",
    "            im += 1\n",
    "        else:\n",
    "            if user_stamps.loc[i-1, 'Event'] == 'in':\n",
    "                stamp['Event'] = 'out'\n",
    "            else:\n",
    "                stamp['Event'] = 'in'\n",
    "\n",
    "data_train"
   ]
  },
  {
   "cell_type": "code",
   "execution_count": 2,
   "outputs": [],
   "source": [
    "user_stamps"
   ],
   "metadata": {
    "collapsed": false
   }
  },
  {
   "cell_type": "code",
   "execution_count": 3,
   "outputs": [
    {
     "data": {
      "text/plain": "       row_id  user_id  holiday  day_of_month  hour  min  sec  gate_id_-1  \\\n0           0       18        0            29     9    8   54           0   \n1           1       18        0            29     9    9   54           0   \n2           2       18        0            29     9    9   54           0   \n3           3       18        0            29     9   10    6           0   \n4           4       18        0            29     9   10    8           0   \n...       ...      ...      ...           ...   ...  ...  ...         ...   \n37513   37513        6        1            31    20   38   56           0   \n37514   37514        6        1            31    20   39   22           0   \n37515   37515        6        1            31    20   39   23           0   \n37516   37516        6        1            31    20   39   31           0   \n37517   37517        6        1            31    20   39   31           0   \n\n       gate_id_0  gate_id_1  ...  day_of_month_22  day_of_month_23  \\\n0              0          0  ...                0                0   \n1              0          0  ...                0                0   \n2              0          0  ...                0                0   \n3              0          0  ...                0                0   \n4              0          0  ...                0                0   \n...          ...        ...  ...              ...              ...   \n37513          0          0  ...                0                0   \n37514          0          0  ...                0                0   \n37515          0          0  ...                0                0   \n37516          0          0  ...                0                0   \n37517          0          0  ...                0                0   \n\n       day_of_month_24  day_of_month_25  day_of_month_26  day_of_month_27  \\\n0                    0                0                0                0   \n1                    0                0                0                0   \n2                    0                0                0                0   \n3                    0                0                0                0   \n4                    0                0                0                0   \n...                ...              ...              ...              ...   \n37513                0                0                0                0   \n37514                0                0                0                0   \n37515                0                0                0                0   \n37516                0                0                0                0   \n37517                0                0                0                0   \n\n       day_of_month_28  day_of_month_29  day_of_month_30  day_of_month_31  \n0                    0                1                0                0  \n1                    0                1                0                0  \n2                    0                1                0                0  \n3                    0                1                0                0  \n4                    0                1                0                0  \n...                ...              ...              ...              ...  \n37513                0                0                0                1  \n37514                0                0                0                1  \n37515                0                0                0                1  \n37516                0                0                0                1  \n37517                0                0                0                1  \n\n[37518 rows x 149 columns]",
      "text/html": "<div>\n<style scoped>\n    .dataframe tbody tr th:only-of-type {\n        vertical-align: middle;\n    }\n\n    .dataframe tbody tr th {\n        vertical-align: top;\n    }\n\n    .dataframe thead th {\n        text-align: right;\n    }\n</style>\n<table border=\"1\" class=\"dataframe\">\n  <thead>\n    <tr style=\"text-align: right;\">\n      <th></th>\n      <th>row_id</th>\n      <th>user_id</th>\n      <th>holiday</th>\n      <th>day_of_month</th>\n      <th>hour</th>\n      <th>min</th>\n      <th>sec</th>\n      <th>gate_id_-1</th>\n      <th>gate_id_0</th>\n      <th>gate_id_1</th>\n      <th>...</th>\n      <th>day_of_month_22</th>\n      <th>day_of_month_23</th>\n      <th>day_of_month_24</th>\n      <th>day_of_month_25</th>\n      <th>day_of_month_26</th>\n      <th>day_of_month_27</th>\n      <th>day_of_month_28</th>\n      <th>day_of_month_29</th>\n      <th>day_of_month_30</th>\n      <th>day_of_month_31</th>\n    </tr>\n  </thead>\n  <tbody>\n    <tr>\n      <th>0</th>\n      <td>0</td>\n      <td>18</td>\n      <td>0</td>\n      <td>29</td>\n      <td>9</td>\n      <td>8</td>\n      <td>54</td>\n      <td>0</td>\n      <td>0</td>\n      <td>0</td>\n      <td>...</td>\n      <td>0</td>\n      <td>0</td>\n      <td>0</td>\n      <td>0</td>\n      <td>0</td>\n      <td>0</td>\n      <td>0</td>\n      <td>1</td>\n      <td>0</td>\n      <td>0</td>\n    </tr>\n    <tr>\n      <th>1</th>\n      <td>1</td>\n      <td>18</td>\n      <td>0</td>\n      <td>29</td>\n      <td>9</td>\n      <td>9</td>\n      <td>54</td>\n      <td>0</td>\n      <td>0</td>\n      <td>0</td>\n      <td>...</td>\n      <td>0</td>\n      <td>0</td>\n      <td>0</td>\n      <td>0</td>\n      <td>0</td>\n      <td>0</td>\n      <td>0</td>\n      <td>1</td>\n      <td>0</td>\n      <td>0</td>\n    </tr>\n    <tr>\n      <th>2</th>\n      <td>2</td>\n      <td>18</td>\n      <td>0</td>\n      <td>29</td>\n      <td>9</td>\n      <td>9</td>\n      <td>54</td>\n      <td>0</td>\n      <td>0</td>\n      <td>0</td>\n      <td>...</td>\n      <td>0</td>\n      <td>0</td>\n      <td>0</td>\n      <td>0</td>\n      <td>0</td>\n      <td>0</td>\n      <td>0</td>\n      <td>1</td>\n      <td>0</td>\n      <td>0</td>\n    </tr>\n    <tr>\n      <th>3</th>\n      <td>3</td>\n      <td>18</td>\n      <td>0</td>\n      <td>29</td>\n      <td>9</td>\n      <td>10</td>\n      <td>6</td>\n      <td>0</td>\n      <td>0</td>\n      <td>0</td>\n      <td>...</td>\n      <td>0</td>\n      <td>0</td>\n      <td>0</td>\n      <td>0</td>\n      <td>0</td>\n      <td>0</td>\n      <td>0</td>\n      <td>1</td>\n      <td>0</td>\n      <td>0</td>\n    </tr>\n    <tr>\n      <th>4</th>\n      <td>4</td>\n      <td>18</td>\n      <td>0</td>\n      <td>29</td>\n      <td>9</td>\n      <td>10</td>\n      <td>8</td>\n      <td>0</td>\n      <td>0</td>\n      <td>0</td>\n      <td>...</td>\n      <td>0</td>\n      <td>0</td>\n      <td>0</td>\n      <td>0</td>\n      <td>0</td>\n      <td>0</td>\n      <td>0</td>\n      <td>1</td>\n      <td>0</td>\n      <td>0</td>\n    </tr>\n    <tr>\n      <th>...</th>\n      <td>...</td>\n      <td>...</td>\n      <td>...</td>\n      <td>...</td>\n      <td>...</td>\n      <td>...</td>\n      <td>...</td>\n      <td>...</td>\n      <td>...</td>\n      <td>...</td>\n      <td>...</td>\n      <td>...</td>\n      <td>...</td>\n      <td>...</td>\n      <td>...</td>\n      <td>...</td>\n      <td>...</td>\n      <td>...</td>\n      <td>...</td>\n      <td>...</td>\n      <td>...</td>\n    </tr>\n    <tr>\n      <th>37513</th>\n      <td>37513</td>\n      <td>6</td>\n      <td>1</td>\n      <td>31</td>\n      <td>20</td>\n      <td>38</td>\n      <td>56</td>\n      <td>0</td>\n      <td>0</td>\n      <td>0</td>\n      <td>...</td>\n      <td>0</td>\n      <td>0</td>\n      <td>0</td>\n      <td>0</td>\n      <td>0</td>\n      <td>0</td>\n      <td>0</td>\n      <td>0</td>\n      <td>0</td>\n      <td>1</td>\n    </tr>\n    <tr>\n      <th>37514</th>\n      <td>37514</td>\n      <td>6</td>\n      <td>1</td>\n      <td>31</td>\n      <td>20</td>\n      <td>39</td>\n      <td>22</td>\n      <td>0</td>\n      <td>0</td>\n      <td>0</td>\n      <td>...</td>\n      <td>0</td>\n      <td>0</td>\n      <td>0</td>\n      <td>0</td>\n      <td>0</td>\n      <td>0</td>\n      <td>0</td>\n      <td>0</td>\n      <td>0</td>\n      <td>1</td>\n    </tr>\n    <tr>\n      <th>37515</th>\n      <td>37515</td>\n      <td>6</td>\n      <td>1</td>\n      <td>31</td>\n      <td>20</td>\n      <td>39</td>\n      <td>23</td>\n      <td>0</td>\n      <td>0</td>\n      <td>0</td>\n      <td>...</td>\n      <td>0</td>\n      <td>0</td>\n      <td>0</td>\n      <td>0</td>\n      <td>0</td>\n      <td>0</td>\n      <td>0</td>\n      <td>0</td>\n      <td>0</td>\n      <td>1</td>\n    </tr>\n    <tr>\n      <th>37516</th>\n      <td>37516</td>\n      <td>6</td>\n      <td>1</td>\n      <td>31</td>\n      <td>20</td>\n      <td>39</td>\n      <td>31</td>\n      <td>0</td>\n      <td>0</td>\n      <td>0</td>\n      <td>...</td>\n      <td>0</td>\n      <td>0</td>\n      <td>0</td>\n      <td>0</td>\n      <td>0</td>\n      <td>0</td>\n      <td>0</td>\n      <td>0</td>\n      <td>0</td>\n      <td>1</td>\n    </tr>\n    <tr>\n      <th>37517</th>\n      <td>37517</td>\n      <td>6</td>\n      <td>1</td>\n      <td>31</td>\n      <td>20</td>\n      <td>39</td>\n      <td>31</td>\n      <td>0</td>\n      <td>0</td>\n      <td>0</td>\n      <td>...</td>\n      <td>0</td>\n      <td>0</td>\n      <td>0</td>\n      <td>0</td>\n      <td>0</td>\n      <td>0</td>\n      <td>0</td>\n      <td>0</td>\n      <td>0</td>\n      <td>1</td>\n    </tr>\n  </tbody>\n</table>\n<p>37518 rows × 149 columns</p>\n</div>"
     },
     "execution_count": 3,
     "metadata": {},
     "output_type": "execute_result"
    }
   ],
   "source": [
    "import pandas as pd\n",
    "from some_func import get_time_of_day, holidays\n",
    "\n",
    "data_train = pd.read_csv('train.csv')\n",
    "data_test = pd.read_csv('test.csv')\n",
    "\n",
    "# Преобразуем временную метку в объект datetime\n",
    "data_train['timestamp'] = pd.to_datetime(data_train['timestamp'])\n",
    "\n",
    "#Создаем признаки день недели, время суток, праздничный ли день\n",
    "data_train['day_of_the_week'] = data_train['timestamp'].dt.dayofweek\n",
    "data_train['part_of_the_day'] = data_train['timestamp'].dt.hour.apply(get_time_of_day)\n",
    "data_train['holiday'] = data_train['timestamp'].dt.date.astype(str).isin(holidays)\n",
    "\n",
    "# Создаем признак время года\n",
    "data_train['season'] = pd.cut(data_train['timestamp'].dt.month,\n",
    "                        bins=[0, 3, 6, 9, 12],\n",
    "                        labels=['winter', 'spring', 'summer', 'autumn'])\n",
    "\n",
    "# Создаем признак времени между проходами юзера через турникет\n",
    "#data_train['time_between_passes'] = data_train.groupby('user_id')['timestamp'].diff().dt.total_seconds()\n",
    "#data_train['time_between_passes'] = data_train['time_between_passes'].fillna(0)\n",
    "\n",
    "\n",
    "data_train['day_of_month'] = data_train['timestamp'].dt.day\n",
    "data_train['hour'] = data_train['timestamp'].dt.hour\n",
    "data_train['min'] = data_train['timestamp'].dt.minute\n",
    "data_train['sec'] = data_train['timestamp'].dt.second\n",
    "\n",
    "data_train = data_train.join(pd.get_dummies(data_train.loc[:, 'gate_id'], prefix='gate_id'))\n",
    "data_train = data_train.join(pd.get_dummies(data_train.loc[:, 'day_of_the_week'], prefix='day_of_week'))\n",
    "data_train = data_train.join(pd.get_dummies(data_train.loc[:, 'part_of_the_day'], prefix='part_of_day'))\n",
    "data_train = data_train.join(pd.get_dummies(data_train.loc[:, 'season'], prefix='season'))\n",
    "data_train['holiday'] = data_train['holiday'].astype(int)\n",
    "\n",
    "data_train['time_between_passes'] = data_train.groupby('gate_id')['timestamp'].diff().dt.total_seconds()\n",
    "data_train['time_between_passes'] = data_train['time_between_passes'].fillna(0)\n",
    "data_train['delta'] = data_train['timestamp'].diff().dt.total_seconds()\n",
    "data_train['delta'] = data_train['delta'].fillna(0)\n",
    "\n",
    "data_train = data_train.join(pd.get_dummies(data_train.loc[:, 'hour'], prefix='hour'))\n",
    "data_train = data_train.join(pd.get_dummies(data_train.loc[:, 'min'], prefix='min'))\n",
    "data_train = data_train.join(pd.get_dummies(data_train.loc[:, 'day_of_month'], prefix='day_of_month'))\n",
    "\n",
    "\n",
    "data_train = data_train.drop(columns=['timestamp', 'gate_id', 'day_of_the_week', 'part_of_the_day', 'season'])\n",
    "\n",
    "data_train.to_csv('5_clear_train.csv', index=False)"
   ],
   "metadata": {
    "collapsed": false
   }
  },
  {
   "cell_type": "code",
   "execution_count": 5,
   "outputs": [],
   "source": [
    "data_train"
   ],
   "metadata": {
    "collapsed": false
   }
  },
  {
   "cell_type": "code",
   "execution_count": 6,
   "outputs": [],
   "source": [
    "import pandas as pd\n",
    "from datetime import datetime\n",
    "from some_func import get_time_of_day, holidays\n",
    "from collections import Counter\n",
    "\n",
    "data_test = pd.read_csv('test.csv')\n",
    "\n",
    "# Преобразуем временную метку в объект datetime\n",
    "data_test['timestamp'] = pd.to_datetime(data_test['timestamp'])\n",
    "\n",
    "# Создаем признаки день недели, время суток, праздничный ли день\n",
    "data_test['day_of_the_week'] = data_test['timestamp'].dt.dayofweek\n",
    "data_test['part_of_the_day'] = data_test['timestamp'].dt.hour.apply(get_time_of_day)\n",
    "data_test['holiday'] = data_test['timestamp'].dt.date.astype(str).isin(holidays)\n",
    "\n",
    "# Создаем признак время года\n",
    "data_test['season'] = pd.cut(data_test['timestamp'].dt.month,\n",
    "                             bins=[0, 3, 6, 9, 12],\n",
    "                             labels=['winter', 'spring', 'summer', 'autumn'])\n",
    "\n",
    "# Создаем признак времени между проходами юзера через турникет\n",
    "#data_test['time_between_passes'] = data_test.groupby('user_id')['timestamp'].diff().dt.total_seconds()\n",
    "#data_test['time_between_passes'] = data_test['time_between_passes'].fillna(0)\n",
    "\n",
    "\n",
    "data_test['day_of_month'] = data_test['timestamp'].dt.day\n",
    "data_test['hour'] = data_test['timestamp'].dt.hour\n",
    "data_test['min'] = data_test['timestamp'].dt.minute\n",
    "data_test['sec'] = data_test['timestamp'].dt.second\n",
    "\n",
    "data_test = data_test.join(pd.get_dummies(data_test.loc[:, 'gate_id'], prefix='gate_id'))\n",
    "data_test = data_test.join(pd.get_dummies(data_test.loc[:, 'day_of_the_week'], prefix='day_of_week'))\n",
    "data_test = data_test.join(pd.get_dummies(data_test.loc[:, 'part_of_the_day'], prefix='part_of_day'))\n",
    "data_test = data_test.join(pd.get_dummies(data_test.loc[:, 'season'], prefix='season'))\n",
    "data_test['holiday'] = data_test['holiday'].astype(int)\n",
    "\n",
    "data_test['time_between_passes'] = data_test.groupby('gate_id')['timestamp'].diff().dt.total_seconds()\n",
    "data_test['time_between_passes'] = data_test['time_between_passes'].fillna(0)\n",
    "data_test['delta'] = data_test['timestamp'].diff().dt.total_seconds()\n",
    "data_test['delta'] = data_test['delta'].fillna(0)\n",
    "\n",
    "data_test = data_test.join(pd.get_dummies(data_test.loc[:, 'hour'], prefix='hour'))\n",
    "data_test = data_test.join(pd.get_dummies(data_test.loc[:, 'min'], prefix='min'))\n",
    "data_test = data_test.join(pd.get_dummies(data_test.loc[:, 'day_of_month'], prefix='day_of_month'))\n",
    "\n",
    "data_test = data_test.drop(columns=['timestamp', 'gate_id', 'day_of_the_week', 'part_of_the_day', 'season'])\n",
    "\n",
    "data_test.to_csv('5_clear_test.csv', index=False)\n"
   ],
   "metadata": {
    "collapsed": false
   }
  },
  {
   "cell_type": "code",
   "execution_count": 8,
   "outputs": [
    {
     "data": {
      "text/plain": "      row_id  holiday  day_of_month  hour  min  sec  gate_id_-1  gate_id_1  \\\n0      37518        1             3     8   21    0           0          0   \n1      37519        1             3     8   21    0           0          0   \n2      37520        1             3     8   21   18           0          0   \n3      37521        1             3     8   21   19           0          0   \n4      37522        1             3     8   21   39           0          0   \n...      ...      ...           ...   ...  ...  ...         ...        ...   \n7120   44638        1            24    19   43   36           0          0   \n7121   44639        1            24    19   44    0           0          0   \n7122   44640        1            24    19   44    1           0          0   \n7123   44641        1            24    19   44    9           0          0   \n7124   44642        1            24    19   44    9           0          0   \n\n      gate_id_2  gate_id_3  ...  day_of_month_22  day_of_month_23  \\\n0             0          0  ...                0                0   \n1             0          0  ...                0                0   \n2             0          0  ...                0                0   \n3             0          0  ...                0                0   \n4             0          0  ...                0                0   \n...         ...        ...  ...              ...              ...   \n7120          0          0  ...                0                0   \n7121          0          0  ...                0                0   \n7122          0          0  ...                0                0   \n7123          0          0  ...                0                0   \n7124          0          0  ...                0                0   \n\n      day_of_month_24  day_of_month_25  day_of_month_26  day_of_month_27  \\\n0                   0                0                0                0   \n1                   0                0                0                0   \n2                   0                0                0                0   \n3                   0                0                0                0   \n4                   0                0                0                0   \n...               ...              ...              ...              ...   \n7120                1                0                0                0   \n7121                1                0                0                0   \n7122                1                0                0                0   \n7123                1                0                0                0   \n7124                1                0                0                0   \n\n      day_of_month_28  day_of_month_29  day_of_month_30  day_of_month_31  \n0                   0                0                0                0  \n1                   0                0                0                0  \n2                   0                0                0                0  \n3                   0                0                0                0  \n4                   0                0                0                0  \n...               ...              ...              ...              ...  \n7120                0                0                0                0  \n7121                0                0                0                0  \n7122                0                0                0                0  \n7123                0                0                0                0  \n7124                0                0                0                0  \n\n[7125 rows x 150 columns]",
      "text/html": "<div>\n<style scoped>\n    .dataframe tbody tr th:only-of-type {\n        vertical-align: middle;\n    }\n\n    .dataframe tbody tr th {\n        vertical-align: top;\n    }\n\n    .dataframe thead th {\n        text-align: right;\n    }\n</style>\n<table border=\"1\" class=\"dataframe\">\n  <thead>\n    <tr style=\"text-align: right;\">\n      <th></th>\n      <th>row_id</th>\n      <th>holiday</th>\n      <th>day_of_month</th>\n      <th>hour</th>\n      <th>min</th>\n      <th>sec</th>\n      <th>gate_id_-1</th>\n      <th>gate_id_1</th>\n      <th>gate_id_2</th>\n      <th>gate_id_3</th>\n      <th>...</th>\n      <th>day_of_month_22</th>\n      <th>day_of_month_23</th>\n      <th>day_of_month_24</th>\n      <th>day_of_month_25</th>\n      <th>day_of_month_26</th>\n      <th>day_of_month_27</th>\n      <th>day_of_month_28</th>\n      <th>day_of_month_29</th>\n      <th>day_of_month_30</th>\n      <th>day_of_month_31</th>\n    </tr>\n  </thead>\n  <tbody>\n    <tr>\n      <th>0</th>\n      <td>37518</td>\n      <td>1</td>\n      <td>3</td>\n      <td>8</td>\n      <td>21</td>\n      <td>0</td>\n      <td>0</td>\n      <td>0</td>\n      <td>0</td>\n      <td>0</td>\n      <td>...</td>\n      <td>0</td>\n      <td>0</td>\n      <td>0</td>\n      <td>0</td>\n      <td>0</td>\n      <td>0</td>\n      <td>0</td>\n      <td>0</td>\n      <td>0</td>\n      <td>0</td>\n    </tr>\n    <tr>\n      <th>1</th>\n      <td>37519</td>\n      <td>1</td>\n      <td>3</td>\n      <td>8</td>\n      <td>21</td>\n      <td>0</td>\n      <td>0</td>\n      <td>0</td>\n      <td>0</td>\n      <td>0</td>\n      <td>...</td>\n      <td>0</td>\n      <td>0</td>\n      <td>0</td>\n      <td>0</td>\n      <td>0</td>\n      <td>0</td>\n      <td>0</td>\n      <td>0</td>\n      <td>0</td>\n      <td>0</td>\n    </tr>\n    <tr>\n      <th>2</th>\n      <td>37520</td>\n      <td>1</td>\n      <td>3</td>\n      <td>8</td>\n      <td>21</td>\n      <td>18</td>\n      <td>0</td>\n      <td>0</td>\n      <td>0</td>\n      <td>0</td>\n      <td>...</td>\n      <td>0</td>\n      <td>0</td>\n      <td>0</td>\n      <td>0</td>\n      <td>0</td>\n      <td>0</td>\n      <td>0</td>\n      <td>0</td>\n      <td>0</td>\n      <td>0</td>\n    </tr>\n    <tr>\n      <th>3</th>\n      <td>37521</td>\n      <td>1</td>\n      <td>3</td>\n      <td>8</td>\n      <td>21</td>\n      <td>19</td>\n      <td>0</td>\n      <td>0</td>\n      <td>0</td>\n      <td>0</td>\n      <td>...</td>\n      <td>0</td>\n      <td>0</td>\n      <td>0</td>\n      <td>0</td>\n      <td>0</td>\n      <td>0</td>\n      <td>0</td>\n      <td>0</td>\n      <td>0</td>\n      <td>0</td>\n    </tr>\n    <tr>\n      <th>4</th>\n      <td>37522</td>\n      <td>1</td>\n      <td>3</td>\n      <td>8</td>\n      <td>21</td>\n      <td>39</td>\n      <td>0</td>\n      <td>0</td>\n      <td>0</td>\n      <td>0</td>\n      <td>...</td>\n      <td>0</td>\n      <td>0</td>\n      <td>0</td>\n      <td>0</td>\n      <td>0</td>\n      <td>0</td>\n      <td>0</td>\n      <td>0</td>\n      <td>0</td>\n      <td>0</td>\n    </tr>\n    <tr>\n      <th>...</th>\n      <td>...</td>\n      <td>...</td>\n      <td>...</td>\n      <td>...</td>\n      <td>...</td>\n      <td>...</td>\n      <td>...</td>\n      <td>...</td>\n      <td>...</td>\n      <td>...</td>\n      <td>...</td>\n      <td>...</td>\n      <td>...</td>\n      <td>...</td>\n      <td>...</td>\n      <td>...</td>\n      <td>...</td>\n      <td>...</td>\n      <td>...</td>\n      <td>...</td>\n      <td>...</td>\n    </tr>\n    <tr>\n      <th>7120</th>\n      <td>44638</td>\n      <td>1</td>\n      <td>24</td>\n      <td>19</td>\n      <td>43</td>\n      <td>36</td>\n      <td>0</td>\n      <td>0</td>\n      <td>0</td>\n      <td>0</td>\n      <td>...</td>\n      <td>0</td>\n      <td>0</td>\n      <td>1</td>\n      <td>0</td>\n      <td>0</td>\n      <td>0</td>\n      <td>0</td>\n      <td>0</td>\n      <td>0</td>\n      <td>0</td>\n    </tr>\n    <tr>\n      <th>7121</th>\n      <td>44639</td>\n      <td>1</td>\n      <td>24</td>\n      <td>19</td>\n      <td>44</td>\n      <td>0</td>\n      <td>0</td>\n      <td>0</td>\n      <td>0</td>\n      <td>0</td>\n      <td>...</td>\n      <td>0</td>\n      <td>0</td>\n      <td>1</td>\n      <td>0</td>\n      <td>0</td>\n      <td>0</td>\n      <td>0</td>\n      <td>0</td>\n      <td>0</td>\n      <td>0</td>\n    </tr>\n    <tr>\n      <th>7122</th>\n      <td>44640</td>\n      <td>1</td>\n      <td>24</td>\n      <td>19</td>\n      <td>44</td>\n      <td>1</td>\n      <td>0</td>\n      <td>0</td>\n      <td>0</td>\n      <td>0</td>\n      <td>...</td>\n      <td>0</td>\n      <td>0</td>\n      <td>1</td>\n      <td>0</td>\n      <td>0</td>\n      <td>0</td>\n      <td>0</td>\n      <td>0</td>\n      <td>0</td>\n      <td>0</td>\n    </tr>\n    <tr>\n      <th>7123</th>\n      <td>44641</td>\n      <td>1</td>\n      <td>24</td>\n      <td>19</td>\n      <td>44</td>\n      <td>9</td>\n      <td>0</td>\n      <td>0</td>\n      <td>0</td>\n      <td>0</td>\n      <td>...</td>\n      <td>0</td>\n      <td>0</td>\n      <td>1</td>\n      <td>0</td>\n      <td>0</td>\n      <td>0</td>\n      <td>0</td>\n      <td>0</td>\n      <td>0</td>\n      <td>0</td>\n    </tr>\n    <tr>\n      <th>7124</th>\n      <td>44642</td>\n      <td>1</td>\n      <td>24</td>\n      <td>19</td>\n      <td>44</td>\n      <td>9</td>\n      <td>0</td>\n      <td>0</td>\n      <td>0</td>\n      <td>0</td>\n      <td>...</td>\n      <td>0</td>\n      <td>0</td>\n      <td>1</td>\n      <td>0</td>\n      <td>0</td>\n      <td>0</td>\n      <td>0</td>\n      <td>0</td>\n      <td>0</td>\n      <td>0</td>\n    </tr>\n  </tbody>\n</table>\n<p>7125 rows × 150 columns</p>\n</div>"
     },
     "execution_count": 8,
     "metadata": {},
     "output_type": "execute_result"
    }
   ],
   "source": [
    "data_train"
   ],
   "metadata": {
    "collapsed": false
   }
  },
  {
   "cell_type": "code",
   "execution_count": 51,
   "outputs": [
    {
     "data": {
      "text/plain": "      row_id  holiday  day_of_month  hour  min  sec  gate_id_-1  gate_id_1  \\\n0      37518        0             3     8   21    0           0          0   \n1      37519        0             3     8   21    0           0          0   \n2      37520        0             3     8   21   18           0          0   \n3      37521        0             3     8   21   19           0          0   \n4      37522        0             3     8   21   39           0          0   \n...      ...      ...           ...   ...  ...  ...         ...        ...   \n7120   44638        0            24    19   43   36           0          0   \n7121   44639        0            24    19   44    0           0          0   \n7122   44640        0            24    19   44    1           0          0   \n7123   44641        0            24    19   44    9           0          0   \n7124   44642        0            24    19   44    9           0          0   \n\n      gate_id_2  gate_id_3  ...  min_50  min_51  min_52  min_53  min_54  \\\n0             0          0  ...       0       0       0       0       0   \n1             0          0  ...       0       0       0       0       0   \n2             0          0  ...       0       0       0       0       0   \n3             0          0  ...       0       0       0       0       0   \n4             0          0  ...       0       0       0       0       0   \n...         ...        ...  ...     ...     ...     ...     ...     ...   \n7120          0          0  ...       0       0       0       0       0   \n7121          0          0  ...       0       0       0       0       0   \n7122          0          0  ...       0       0       0       0       0   \n7123          0          0  ...       0       0       0       0       0   \n7124          0          0  ...       0       0       0       0       0   \n\n      min_55  min_56  min_57  min_58  min_59  \n0          0       0       0       0       0  \n1          0       0       0       0       0  \n2          0       0       0       0       0  \n3          0       0       0       0       0  \n4          0       0       0       0       0  \n...      ...     ...     ...     ...     ...  \n7120       0       0       0       0       0  \n7121       0       0       0       0       0  \n7122       0       0       0       0       0  \n7123       0       0       0       0       0  \n7124       0       0       0       0       0  \n\n[7125 rows x 117 columns]",
      "text/html": "<div>\n<style scoped>\n    .dataframe tbody tr th:only-of-type {\n        vertical-align: middle;\n    }\n\n    .dataframe tbody tr th {\n        vertical-align: top;\n    }\n\n    .dataframe thead th {\n        text-align: right;\n    }\n</style>\n<table border=\"1\" class=\"dataframe\">\n  <thead>\n    <tr style=\"text-align: right;\">\n      <th></th>\n      <th>row_id</th>\n      <th>holiday</th>\n      <th>day_of_month</th>\n      <th>hour</th>\n      <th>min</th>\n      <th>sec</th>\n      <th>gate_id_-1</th>\n      <th>gate_id_1</th>\n      <th>gate_id_2</th>\n      <th>gate_id_3</th>\n      <th>...</th>\n      <th>min_50</th>\n      <th>min_51</th>\n      <th>min_52</th>\n      <th>min_53</th>\n      <th>min_54</th>\n      <th>min_55</th>\n      <th>min_56</th>\n      <th>min_57</th>\n      <th>min_58</th>\n      <th>min_59</th>\n    </tr>\n  </thead>\n  <tbody>\n    <tr>\n      <th>0</th>\n      <td>37518</td>\n      <td>0</td>\n      <td>3</td>\n      <td>8</td>\n      <td>21</td>\n      <td>0</td>\n      <td>0</td>\n      <td>0</td>\n      <td>0</td>\n      <td>0</td>\n      <td>...</td>\n      <td>0</td>\n      <td>0</td>\n      <td>0</td>\n      <td>0</td>\n      <td>0</td>\n      <td>0</td>\n      <td>0</td>\n      <td>0</td>\n      <td>0</td>\n      <td>0</td>\n    </tr>\n    <tr>\n      <th>1</th>\n      <td>37519</td>\n      <td>0</td>\n      <td>3</td>\n      <td>8</td>\n      <td>21</td>\n      <td>0</td>\n      <td>0</td>\n      <td>0</td>\n      <td>0</td>\n      <td>0</td>\n      <td>...</td>\n      <td>0</td>\n      <td>0</td>\n      <td>0</td>\n      <td>0</td>\n      <td>0</td>\n      <td>0</td>\n      <td>0</td>\n      <td>0</td>\n      <td>0</td>\n      <td>0</td>\n    </tr>\n    <tr>\n      <th>2</th>\n      <td>37520</td>\n      <td>0</td>\n      <td>3</td>\n      <td>8</td>\n      <td>21</td>\n      <td>18</td>\n      <td>0</td>\n      <td>0</td>\n      <td>0</td>\n      <td>0</td>\n      <td>...</td>\n      <td>0</td>\n      <td>0</td>\n      <td>0</td>\n      <td>0</td>\n      <td>0</td>\n      <td>0</td>\n      <td>0</td>\n      <td>0</td>\n      <td>0</td>\n      <td>0</td>\n    </tr>\n    <tr>\n      <th>3</th>\n      <td>37521</td>\n      <td>0</td>\n      <td>3</td>\n      <td>8</td>\n      <td>21</td>\n      <td>19</td>\n      <td>0</td>\n      <td>0</td>\n      <td>0</td>\n      <td>0</td>\n      <td>...</td>\n      <td>0</td>\n      <td>0</td>\n      <td>0</td>\n      <td>0</td>\n      <td>0</td>\n      <td>0</td>\n      <td>0</td>\n      <td>0</td>\n      <td>0</td>\n      <td>0</td>\n    </tr>\n    <tr>\n      <th>4</th>\n      <td>37522</td>\n      <td>0</td>\n      <td>3</td>\n      <td>8</td>\n      <td>21</td>\n      <td>39</td>\n      <td>0</td>\n      <td>0</td>\n      <td>0</td>\n      <td>0</td>\n      <td>...</td>\n      <td>0</td>\n      <td>0</td>\n      <td>0</td>\n      <td>0</td>\n      <td>0</td>\n      <td>0</td>\n      <td>0</td>\n      <td>0</td>\n      <td>0</td>\n      <td>0</td>\n    </tr>\n    <tr>\n      <th>...</th>\n      <td>...</td>\n      <td>...</td>\n      <td>...</td>\n      <td>...</td>\n      <td>...</td>\n      <td>...</td>\n      <td>...</td>\n      <td>...</td>\n      <td>...</td>\n      <td>...</td>\n      <td>...</td>\n      <td>...</td>\n      <td>...</td>\n      <td>...</td>\n      <td>...</td>\n      <td>...</td>\n      <td>...</td>\n      <td>...</td>\n      <td>...</td>\n      <td>...</td>\n      <td>...</td>\n    </tr>\n    <tr>\n      <th>7120</th>\n      <td>44638</td>\n      <td>0</td>\n      <td>24</td>\n      <td>19</td>\n      <td>43</td>\n      <td>36</td>\n      <td>0</td>\n      <td>0</td>\n      <td>0</td>\n      <td>0</td>\n      <td>...</td>\n      <td>0</td>\n      <td>0</td>\n      <td>0</td>\n      <td>0</td>\n      <td>0</td>\n      <td>0</td>\n      <td>0</td>\n      <td>0</td>\n      <td>0</td>\n      <td>0</td>\n    </tr>\n    <tr>\n      <th>7121</th>\n      <td>44639</td>\n      <td>0</td>\n      <td>24</td>\n      <td>19</td>\n      <td>44</td>\n      <td>0</td>\n      <td>0</td>\n      <td>0</td>\n      <td>0</td>\n      <td>0</td>\n      <td>...</td>\n      <td>0</td>\n      <td>0</td>\n      <td>0</td>\n      <td>0</td>\n      <td>0</td>\n      <td>0</td>\n      <td>0</td>\n      <td>0</td>\n      <td>0</td>\n      <td>0</td>\n    </tr>\n    <tr>\n      <th>7122</th>\n      <td>44640</td>\n      <td>0</td>\n      <td>24</td>\n      <td>19</td>\n      <td>44</td>\n      <td>1</td>\n      <td>0</td>\n      <td>0</td>\n      <td>0</td>\n      <td>0</td>\n      <td>...</td>\n      <td>0</td>\n      <td>0</td>\n      <td>0</td>\n      <td>0</td>\n      <td>0</td>\n      <td>0</td>\n      <td>0</td>\n      <td>0</td>\n      <td>0</td>\n      <td>0</td>\n    </tr>\n    <tr>\n      <th>7123</th>\n      <td>44641</td>\n      <td>0</td>\n      <td>24</td>\n      <td>19</td>\n      <td>44</td>\n      <td>9</td>\n      <td>0</td>\n      <td>0</td>\n      <td>0</td>\n      <td>0</td>\n      <td>...</td>\n      <td>0</td>\n      <td>0</td>\n      <td>0</td>\n      <td>0</td>\n      <td>0</td>\n      <td>0</td>\n      <td>0</td>\n      <td>0</td>\n      <td>0</td>\n      <td>0</td>\n    </tr>\n    <tr>\n      <th>7124</th>\n      <td>44642</td>\n      <td>0</td>\n      <td>24</td>\n      <td>19</td>\n      <td>44</td>\n      <td>9</td>\n      <td>0</td>\n      <td>0</td>\n      <td>0</td>\n      <td>0</td>\n      <td>...</td>\n      <td>0</td>\n      <td>0</td>\n      <td>0</td>\n      <td>0</td>\n      <td>0</td>\n      <td>0</td>\n      <td>0</td>\n      <td>0</td>\n      <td>0</td>\n      <td>0</td>\n    </tr>\n  </tbody>\n</table>\n<p>7125 rows × 117 columns</p>\n</div>"
     },
     "execution_count": 51,
     "metadata": {},
     "output_type": "execute_result"
    }
   ],
   "source": [
    "data_test"
   ],
   "metadata": {
    "collapsed": false
   }
  },
  {
   "cell_type": "code",
   "execution_count": 54,
   "outputs": [
    {
     "ename": "ValueError",
     "evalue": "2 columns passed, passed data had 7125 columns",
     "output_type": "error",
     "traceback": [
      "\u001B[0;31m---------------------------------------------------------------------------\u001B[0m",
      "\u001B[0;31mAssertionError\u001B[0m                            Traceback (most recent call last)",
      "File \u001B[0;32m~/.local/lib/python3.10/site-packages/pandas/core/internals/construction.py:969\u001B[0m, in \u001B[0;36m_finalize_columns_and_data\u001B[0;34m(content, columns, dtype)\u001B[0m\n\u001B[1;32m    968\u001B[0m \u001B[38;5;28;01mtry\u001B[39;00m:\n\u001B[0;32m--> 969\u001B[0m     columns \u001B[38;5;241m=\u001B[39m \u001B[43m_validate_or_indexify_columns\u001B[49m\u001B[43m(\u001B[49m\u001B[43mcontents\u001B[49m\u001B[43m,\u001B[49m\u001B[43m \u001B[49m\u001B[43mcolumns\u001B[49m\u001B[43m)\u001B[49m\n\u001B[1;32m    970\u001B[0m \u001B[38;5;28;01mexcept\u001B[39;00m \u001B[38;5;167;01mAssertionError\u001B[39;00m \u001B[38;5;28;01mas\u001B[39;00m err:\n\u001B[1;32m    971\u001B[0m     \u001B[38;5;66;03m# GH#26429 do not raise user-facing AssertionError\u001B[39;00m\n",
      "File \u001B[0;32m~/.local/lib/python3.10/site-packages/pandas/core/internals/construction.py:1017\u001B[0m, in \u001B[0;36m_validate_or_indexify_columns\u001B[0;34m(content, columns)\u001B[0m\n\u001B[1;32m   1015\u001B[0m \u001B[38;5;28;01mif\u001B[39;00m \u001B[38;5;129;01mnot\u001B[39;00m is_mi_list \u001B[38;5;129;01mand\u001B[39;00m \u001B[38;5;28mlen\u001B[39m(columns) \u001B[38;5;241m!=\u001B[39m \u001B[38;5;28mlen\u001B[39m(content):  \u001B[38;5;66;03m# pragma: no cover\u001B[39;00m\n\u001B[1;32m   1016\u001B[0m     \u001B[38;5;66;03m# caller's responsibility to check for this...\u001B[39;00m\n\u001B[0;32m-> 1017\u001B[0m     \u001B[38;5;28;01mraise\u001B[39;00m \u001B[38;5;167;01mAssertionError\u001B[39;00m(\n\u001B[1;32m   1018\u001B[0m         \u001B[38;5;124mf\u001B[39m\u001B[38;5;124m\"\u001B[39m\u001B[38;5;132;01m{\u001B[39;00m\u001B[38;5;28mlen\u001B[39m(columns)\u001B[38;5;132;01m}\u001B[39;00m\u001B[38;5;124m columns passed, passed data had \u001B[39m\u001B[38;5;124m\"\u001B[39m\n\u001B[1;32m   1019\u001B[0m         \u001B[38;5;124mf\u001B[39m\u001B[38;5;124m\"\u001B[39m\u001B[38;5;132;01m{\u001B[39;00m\u001B[38;5;28mlen\u001B[39m(content)\u001B[38;5;132;01m}\u001B[39;00m\u001B[38;5;124m columns\u001B[39m\u001B[38;5;124m\"\u001B[39m\n\u001B[1;32m   1020\u001B[0m     )\n\u001B[1;32m   1021\u001B[0m \u001B[38;5;28;01melif\u001B[39;00m is_mi_list:\n\u001B[1;32m   1022\u001B[0m \n\u001B[1;32m   1023\u001B[0m     \u001B[38;5;66;03m# check if nested list column, length of each sub-list should be equal\u001B[39;00m\n",
      "\u001B[0;31mAssertionError\u001B[0m: 2 columns passed, passed data had 7125 columns",
      "\nThe above exception was the direct cause of the following exception:\n",
      "\u001B[0;31mValueError\u001B[0m                                Traceback (most recent call last)",
      "Cell \u001B[0;32mIn[54], line 52\u001B[0m\n\u001B[1;32m     48\u001B[0m \u001B[38;5;66;03m#predictions = np.array(torch.argmax(predictions, dim=1)).astype(int)\u001B[39;00m\n\u001B[1;32m     50\u001B[0m predictions \u001B[38;5;241m=\u001B[39m torch\u001B[38;5;241m.\u001B[39margmax(predictions, dim\u001B[38;5;241m=\u001B[39m\u001B[38;5;241m1\u001B[39m)\n\u001B[0;32m---> 52\u001B[0m output \u001B[38;5;241m=\u001B[39m \u001B[43mpd\u001B[49m\u001B[38;5;241;43m.\u001B[39;49m\u001B[43mDataFrame\u001B[49m\u001B[43m(\u001B[49m\u001B[43m[\u001B[49m\u001B[38;5;28;43mlist\u001B[39;49m\u001B[43m(\u001B[49m\u001B[38;5;28;43mrange\u001B[39;49m\u001B[43m(\u001B[49m\u001B[38;5;241;43m37518\u001B[39;49m\u001B[43m,\u001B[49m\u001B[43m \u001B[49m\u001B[38;5;241;43m7126\u001B[39;49m\u001B[43m)\u001B[49m\u001B[43m)\u001B[49m\u001B[43m,\u001B[49m\n\u001B[1;32m     53\u001B[0m \u001B[43m                       \u001B[49m\u001B[43mpredictions\u001B[49m\u001B[43m]\u001B[49m\u001B[43m,\u001B[49m\u001B[43m \u001B[49m\u001B[43mcolumns\u001B[49m\u001B[38;5;241;43m=\u001B[39;49m\u001B[43m[\u001B[49m\u001B[38;5;124;43m'\u001B[39;49m\u001B[38;5;124;43mrow_id\u001B[39;49m\u001B[38;5;124;43m'\u001B[39;49m\u001B[43m,\u001B[49m\u001B[43m \u001B[49m\u001B[38;5;124;43m'\u001B[39;49m\u001B[38;5;124;43mtarget\u001B[39;49m\u001B[38;5;124;43m'\u001B[39;49m\u001B[43m]\u001B[49m\u001B[43m)\u001B[49m\n\u001B[1;32m     54\u001B[0m output\u001B[38;5;241m.\u001B[39mto_csv(os\u001B[38;5;241m.\u001B[39mpath\u001B[38;5;241m.\u001B[39mjoin(\u001B[38;5;124m'\u001B[39m\u001B[38;5;124moutputs/output\u001B[39m\u001B[38;5;124m'\u001B[39m \u001B[38;5;241m+\u001B[39m datetime\u001B[38;5;241m.\u001B[39mdatetime\u001B[38;5;241m.\u001B[39mnow()\u001B[38;5;241m.\u001B[39mstrftime(\u001B[38;5;124m'\u001B[39m\u001B[38;5;132;01m%d\u001B[39;00m\u001B[38;5;124m%\u001B[39m\u001B[38;5;124mm\u001B[39m\u001B[38;5;124m%\u001B[39m\u001B[38;5;124my\u001B[39m\u001B[38;5;124m%\u001B[39m\u001B[38;5;124mH\u001B[39m\u001B[38;5;124m%\u001B[39m\u001B[38;5;124mM\u001B[39m\u001B[38;5;124m'\u001B[39m) \u001B[38;5;241m+\u001B[39m \u001B[38;5;124m'\u001B[39m\u001B[38;5;124m.csv\u001B[39m\u001B[38;5;124m'\u001B[39m), index\u001B[38;5;241m=\u001B[39m\u001B[38;5;28;01mFalse\u001B[39;00m)\n",
      "File \u001B[0;32m~/.local/lib/python3.10/site-packages/pandas/core/frame.py:746\u001B[0m, in \u001B[0;36mDataFrame.__init__\u001B[0;34m(self, data, index, columns, dtype, copy)\u001B[0m\n\u001B[1;32m    744\u001B[0m     \u001B[38;5;28;01mif\u001B[39;00m columns \u001B[38;5;129;01mis\u001B[39;00m \u001B[38;5;129;01mnot\u001B[39;00m \u001B[38;5;28;01mNone\u001B[39;00m:\n\u001B[1;32m    745\u001B[0m         columns \u001B[38;5;241m=\u001B[39m ensure_index(columns)\n\u001B[0;32m--> 746\u001B[0m     arrays, columns, index \u001B[38;5;241m=\u001B[39m \u001B[43mnested_data_to_arrays\u001B[49m\u001B[43m(\u001B[49m\n\u001B[1;32m    747\u001B[0m \u001B[43m        \u001B[49m\u001B[38;5;66;43;03m# error: Argument 3 to \"nested_data_to_arrays\" has incompatible\u001B[39;49;00m\n\u001B[1;32m    748\u001B[0m \u001B[43m        \u001B[49m\u001B[38;5;66;43;03m# type \"Optional[Collection[Any]]\"; expected \"Optional[Index]\"\u001B[39;49;00m\n\u001B[1;32m    749\u001B[0m \u001B[43m        \u001B[49m\u001B[43mdata\u001B[49m\u001B[43m,\u001B[49m\n\u001B[1;32m    750\u001B[0m \u001B[43m        \u001B[49m\u001B[43mcolumns\u001B[49m\u001B[43m,\u001B[49m\n\u001B[1;32m    751\u001B[0m \u001B[43m        \u001B[49m\u001B[43mindex\u001B[49m\u001B[43m,\u001B[49m\u001B[43m  \u001B[49m\u001B[38;5;66;43;03m# type: ignore[arg-type]\u001B[39;49;00m\n\u001B[1;32m    752\u001B[0m \u001B[43m        \u001B[49m\u001B[43mdtype\u001B[49m\u001B[43m,\u001B[49m\n\u001B[1;32m    753\u001B[0m \u001B[43m    \u001B[49m\u001B[43m)\u001B[49m\n\u001B[1;32m    754\u001B[0m     mgr \u001B[38;5;241m=\u001B[39m arrays_to_mgr(\n\u001B[1;32m    755\u001B[0m         arrays,\n\u001B[1;32m    756\u001B[0m         columns,\n\u001B[0;32m   (...)\u001B[0m\n\u001B[1;32m    759\u001B[0m         typ\u001B[38;5;241m=\u001B[39mmanager,\n\u001B[1;32m    760\u001B[0m     )\n\u001B[1;32m    761\u001B[0m \u001B[38;5;28;01melse\u001B[39;00m:\n",
      "File \u001B[0;32m~/.local/lib/python3.10/site-packages/pandas/core/internals/construction.py:510\u001B[0m, in \u001B[0;36mnested_data_to_arrays\u001B[0;34m(data, columns, index, dtype)\u001B[0m\n\u001B[1;32m    507\u001B[0m \u001B[38;5;28;01mif\u001B[39;00m is_named_tuple(data[\u001B[38;5;241m0\u001B[39m]) \u001B[38;5;129;01mand\u001B[39;00m columns \u001B[38;5;129;01mis\u001B[39;00m \u001B[38;5;28;01mNone\u001B[39;00m:\n\u001B[1;32m    508\u001B[0m     columns \u001B[38;5;241m=\u001B[39m ensure_index(data[\u001B[38;5;241m0\u001B[39m]\u001B[38;5;241m.\u001B[39m_fields)\n\u001B[0;32m--> 510\u001B[0m arrays, columns \u001B[38;5;241m=\u001B[39m \u001B[43mto_arrays\u001B[49m\u001B[43m(\u001B[49m\u001B[43mdata\u001B[49m\u001B[43m,\u001B[49m\u001B[43m \u001B[49m\u001B[43mcolumns\u001B[49m\u001B[43m,\u001B[49m\u001B[43m \u001B[49m\u001B[43mdtype\u001B[49m\u001B[38;5;241;43m=\u001B[39;49m\u001B[43mdtype\u001B[49m\u001B[43m)\u001B[49m\n\u001B[1;32m    511\u001B[0m columns \u001B[38;5;241m=\u001B[39m ensure_index(columns)\n\u001B[1;32m    513\u001B[0m \u001B[38;5;28;01mif\u001B[39;00m index \u001B[38;5;129;01mis\u001B[39;00m \u001B[38;5;28;01mNone\u001B[39;00m:\n",
      "File \u001B[0;32m~/.local/lib/python3.10/site-packages/pandas/core/internals/construction.py:875\u001B[0m, in \u001B[0;36mto_arrays\u001B[0;34m(data, columns, dtype)\u001B[0m\n\u001B[1;32m    872\u001B[0m     data \u001B[38;5;241m=\u001B[39m [\u001B[38;5;28mtuple\u001B[39m(x) \u001B[38;5;28;01mfor\u001B[39;00m x \u001B[38;5;129;01min\u001B[39;00m data]\n\u001B[1;32m    873\u001B[0m     arr \u001B[38;5;241m=\u001B[39m _list_to_arrays(data)\n\u001B[0;32m--> 875\u001B[0m content, columns \u001B[38;5;241m=\u001B[39m \u001B[43m_finalize_columns_and_data\u001B[49m\u001B[43m(\u001B[49m\u001B[43marr\u001B[49m\u001B[43m,\u001B[49m\u001B[43m \u001B[49m\u001B[43mcolumns\u001B[49m\u001B[43m,\u001B[49m\u001B[43m \u001B[49m\u001B[43mdtype\u001B[49m\u001B[43m)\u001B[49m\n\u001B[1;32m    876\u001B[0m \u001B[38;5;28;01mreturn\u001B[39;00m content, columns\n",
      "File \u001B[0;32m~/.local/lib/python3.10/site-packages/pandas/core/internals/construction.py:972\u001B[0m, in \u001B[0;36m_finalize_columns_and_data\u001B[0;34m(content, columns, dtype)\u001B[0m\n\u001B[1;32m    969\u001B[0m     columns \u001B[38;5;241m=\u001B[39m _validate_or_indexify_columns(contents, columns)\n\u001B[1;32m    970\u001B[0m \u001B[38;5;28;01mexcept\u001B[39;00m \u001B[38;5;167;01mAssertionError\u001B[39;00m \u001B[38;5;28;01mas\u001B[39;00m err:\n\u001B[1;32m    971\u001B[0m     \u001B[38;5;66;03m# GH#26429 do not raise user-facing AssertionError\u001B[39;00m\n\u001B[0;32m--> 972\u001B[0m     \u001B[38;5;28;01mraise\u001B[39;00m \u001B[38;5;167;01mValueError\u001B[39;00m(err) \u001B[38;5;28;01mfrom\u001B[39;00m \u001B[38;5;21;01merr\u001B[39;00m\n\u001B[1;32m    974\u001B[0m \u001B[38;5;28;01mif\u001B[39;00m \u001B[38;5;28mlen\u001B[39m(contents) \u001B[38;5;129;01mand\u001B[39;00m contents[\u001B[38;5;241m0\u001B[39m]\u001B[38;5;241m.\u001B[39mdtype \u001B[38;5;241m==\u001B[39m np\u001B[38;5;241m.\u001B[39mobject_:\n\u001B[1;32m    975\u001B[0m     contents \u001B[38;5;241m=\u001B[39m _convert_object_array(contents, dtype\u001B[38;5;241m=\u001B[39mdtype)\n",
      "\u001B[0;31mValueError\u001B[0m: 2 columns passed, passed data had 7125 columns"
     ]
    }
   ],
   "source": [
    "import configparser\n",
    "import os\n",
    "import datetime\n",
    "import torch\n",
    "import torch.optim as optim\n",
    "import torch.nn as nn\n",
    "import pandas as pd\n",
    "from torch.utils.data import DataLoader\n",
    "from tqdm import tqdm\n",
    "import neptune\n",
    "from data_functions import TurnstileDataset, get_loaders\n",
    "from metrics_functions import compute_accuracy, validation_loss\n",
    "import numpy as np\n",
    "\n",
    "if torch.cuda.is_available():\n",
    "    dev = 'cuda:0'\n",
    "else:\n",
    "    dev = 'cpu'\n",
    "device = torch.device(dev)\n",
    "\n",
    "model = nn.Sequential(\n",
    "    nn.Linear(110, 128),\n",
    "    #nn.BatchNorm1d(128),\n",
    "    nn.ReLU(),\n",
    "    nn.Dropout(0.069),\n",
    "    nn.Linear(128, 139),\n",
    "    nn.ReLU(),\n",
    "    nn.Dropout(0.0155),\n",
    "    nn.Linear(139, 195),\n",
    "    nn.ReLU(),\n",
    "    nn.Dropout(0.017),\n",
    "    nn.Linear(195, 58),\n",
    ")\n",
    "model.to(device)\n",
    "model.type(torch.cuda.FloatTensor)\n",
    "\n",
    "model.load_state_dict( torch.load(os.path.join('optimized/optims.pth'), map_location=torch.device(\"cuda\")) )\n",
    "\n",
    "\n",
    "test_set = TurnstileDataset(test=True, normalize=True)\n",
    "test_loader = DataLoader(test_set, batch_size=1)\n",
    "\n",
    "\n",
    "model.eval()\n",
    "\n",
    "predictions = model(torch.Tensor(test_set.X_test).to(device))\n",
    "\n",
    "predictions_labels = torch.argmax(predictions, dim=1)\n",
    "predictions_labels_list = list(np.array(predictions_labels.cpu()))\n",
    "\n",
    "output = pd.DataFrame({'row_id' : list(range(37518, 44643)),\n",
    "                       'target' : predictions_labels_list}, columns=['row_id', 'target'])\n",
    "output.to_csv(os.path.join('outputs/output__' + datetime.datetime.now().strftime('%d%m%y%H%M') + '.csv'), index=False)"
   ],
   "metadata": {
    "collapsed": false
   }
  },
  {
   "cell_type": "code",
   "execution_count": 58,
   "outputs": [
    {
     "ename": "IndexError",
     "evalue": "Dimension out of range (expected to be in range of [-1, 0], but got 1)",
     "output_type": "error",
     "traceback": [
      "\u001B[0;31m---------------------------------------------------------------------------\u001B[0m",
      "\u001B[0;31mIndexError\u001B[0m                                Traceback (most recent call last)",
      "Cell \u001B[0;32mIn[58], line 1\u001B[0m\n\u001B[0;32m----> 1\u001B[0m \u001B[43mtorch\u001B[49m\u001B[38;5;241;43m.\u001B[39;49m\u001B[43margmax\u001B[49m\u001B[43m(\u001B[49m\u001B[43mpredictions\u001B[49m\u001B[43m,\u001B[49m\u001B[43m \u001B[49m\u001B[43mdim\u001B[49m\u001B[38;5;241;43m=\u001B[39;49m\u001B[38;5;241;43m1\u001B[39;49m\u001B[43m)\u001B[49m\n",
      "\u001B[0;31mIndexError\u001B[0m: Dimension out of range (expected to be in range of [-1, 0], but got 1)"
     ]
    }
   ],
   "source": [
    "torch.argmax(predictions, dim=1)"
   ],
   "metadata": {
    "collapsed": false
   }
  },
  {
   "cell_type": "code",
   "execution_count": 60,
   "outputs": [
    {
     "data": {
      "text/plain": "tensor([[ -5.7816,  11.1053, -10.2409,  ...,   3.6145,  -8.1807, -15.2887],\n        [ -5.7816,  11.1053, -10.2409,  ...,   3.6145,  -8.1807, -15.2887],\n        [ -9.5426,   8.4816, -13.6751,  ...,   1.1495,  -5.2589, -11.4211],\n        ...,\n        [ -8.3594,   0.8504,  -6.3661,  ...,  -9.5923,  -8.4599,  -5.5422],\n        [ -7.8520,  -7.0630, -12.2311,  ...,  -7.9301, -10.7578,   2.0349],\n        [ -7.8520,  -7.0630, -12.2311,  ...,  -7.9301, -10.7578,   2.0349]],\n       device='cuda:0', grad_fn=<AddmmBackward0>)"
     },
     "execution_count": 60,
     "metadata": {},
     "output_type": "execute_result"
    }
   ],
   "source": [
    "predictions = model(torch.Tensor(test_set.X_test).to(device))\n",
    "predictions"
   ],
   "metadata": {
    "collapsed": false
   }
  },
  {
   "cell_type": "code",
   "execution_count": 78,
   "outputs": [],
   "source": [
    "predictions_labels = torch.argmax(predictions, dim=1)\n",
    "predictions_labelss = list(np.array(predictions_labels.cpu()))"
   ],
   "metadata": {
    "collapsed": false
   }
  },
  {
   "cell_type": "code",
   "execution_count": 84,
   "outputs": [],
   "source": [
    "pd.DataFrame({'row_id' : list(range(37518, 44643)),\n",
    "                       'target' : predictions_labelss}, columns=['row_id', 'target']).to_csv(os.path.join('outputs/output__' + datetime.datetime.now().strftime('%d%m%y%H%M') + '.csv'), index=False)"
   ],
   "metadata": {
    "collapsed": false
   }
  },
  {
   "cell_type": "code",
   "execution_count": 81,
   "outputs": [
    {
     "data": {
      "text/plain": "0"
     },
     "execution_count": 81,
     "metadata": {},
     "output_type": "execute_result"
    }
   ],
   "source": [
    "len(list(range(37518, 7126)))"
   ],
   "metadata": {
    "collapsed": false
   }
  },
  {
   "cell_type": "code",
   "execution_count": null,
   "outputs": [],
   "source": [],
   "metadata": {
    "collapsed": false
   }
  }
 ],
 "metadata": {
  "kernelspec": {
   "display_name": "Python 3",
   "language": "python",
   "name": "python3"
  },
  "language_info": {
   "codemirror_mode": {
    "name": "ipython",
    "version": 2
   },
   "file_extension": ".py",
   "mimetype": "text/x-python",
   "name": "python",
   "nbconvert_exporter": "python",
   "pygments_lexer": "ipython2",
   "version": "2.7.6"
  }
 },
 "nbformat": 4,
 "nbformat_minor": 0
}

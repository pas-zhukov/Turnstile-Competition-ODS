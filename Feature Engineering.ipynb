{
 "cells": [
  {
   "cell_type": "code",
   "execution_count": null,
   "outputs": [],
   "source": [
    "# Тренировочные данные"
   ],
   "metadata": {
    "collapsed": false
   }
  },
  {
   "cell_type": "code",
   "execution_count": 1,
   "outputs": [],
   "source": [
    "import pandas as pd\n",
    "from some_func import get_time_of_day, holidays\n",
    "\n",
    "data_train = pd.read_csv('train.csv')\n",
    "data_test = pd.read_csv('test.csv')\n",
    "\n",
    "# Преобразуем временную метку в объект datetime\n",
    "data_train['timestamp'] = pd.to_datetime(data_train['timestamp'])\n",
    "\n",
    "#Создаем признаки день недели, время суток, праздничный ли день\n",
    "data_train['day_of_the_week'] = data_train['timestamp'].dt.dayofweek\n",
    "data_train['part_of_the_day'] = data_train['timestamp'].dt.hour.apply(get_time_of_day)\n",
    "data_train['holiday'] = data_train['timestamp'].dt.date.astype(str).isin(holidays)\n",
    "\n",
    "# Создаем признак время года\n",
    "data_train['season'] = pd.cut(data_train['timestamp'].dt.month,\n",
    "                        bins=[0, 3, 6, 9, 12],\n",
    "                        labels=['winter', 'spring', 'summer', 'autumn'])\n",
    "\n",
    "# День месяца, часы, минуты, секунды\n",
    "data_train['day_of_month'] = data_train['timestamp'].dt.day\n",
    "data_train['hour'] = data_train['timestamp'].dt.hour\n",
    "data_train['min'] = data_train['timestamp'].dt.minute\n",
    "data_train['sec'] = data_train['timestamp'].dt.second\n",
    "\n",
    "# Векторизуем данные\n",
    "data_train = data_train.join(pd.get_dummies(data_train.loc[:, 'gate_id'], prefix='gate_id'))\n",
    "data_train = data_train.join(pd.get_dummies(data_train.loc[:, 'day_of_the_week'], prefix='day_of_week'))\n",
    "data_train = data_train.join(pd.get_dummies(data_train.loc[:, 'part_of_the_day'], prefix='part_of_day'))\n",
    "data_train = data_train.join(pd.get_dummies(data_train.loc[:, 'season'], prefix='season'))\n",
    "data_train['holiday'] = data_train['holiday'].astype(int)\n",
    "\n",
    "# Время между проходами через конкретный турникет и время между каждой записью\n",
    "data_train['time_between_passes'] = data_train.groupby('gate_id')['timestamp'].diff().dt.total_seconds()\n",
    "data_train['time_between_passes'] = data_train['time_between_passes'].fillna(0)\n",
    "data_train['delta'] = data_train['timestamp'].diff().dt.total_seconds()\n",
    "data_train['delta'] = data_train['delta'].fillna(0)\n",
    "\n",
    "# Еще немного векторизуем\n",
    "data_train = data_train.join(pd.get_dummies(data_train.loc[:, 'hour'], prefix='hour'))\n",
    "data_train = data_train.join(pd.get_dummies(data_train.loc[:, 'min'], prefix='min'))\n",
    "data_train = data_train.join(pd.get_dummies(data_train.loc[:, 'day_of_month'], prefix='day_of_month'))\n",
    "\n",
    "# Чистим и сохраняем в файл\n",
    "data_train = data_train.drop(columns=['timestamp', 'gate_id', 'day_of_the_week', 'part_of_the_day', 'season'])\n",
    "\n",
    "data_train.to_csv('5_clear_train.csv', index=False)"
   ],
   "metadata": {
    "collapsed": false
   }
  },
  {
   "cell_type": "code",
   "execution_count": 2,
   "outputs": [
    {
     "data": {
      "text/plain": "       row_id  user_id  holiday  day_of_month  hour  min  sec  gate_id_-1  \\\n0           0       18        0            29     9    8   54           0   \n1           1       18        0            29     9    9   54           0   \n2           2       18        0            29     9    9   54           0   \n3           3       18        0            29     9   10    6           0   \n4           4       18        0            29     9   10    8           0   \n...       ...      ...      ...           ...   ...  ...  ...         ...   \n37513   37513        6        1            31    20   38   56           0   \n37514   37514        6        1            31    20   39   22           0   \n37515   37515        6        1            31    20   39   23           0   \n37516   37516        6        1            31    20   39   31           0   \n37517   37517        6        1            31    20   39   31           0   \n\n       gate_id_0  gate_id_1  ...  day_of_month_22  day_of_month_23  \\\n0              0          0  ...                0                0   \n1              0          0  ...                0                0   \n2              0          0  ...                0                0   \n3              0          0  ...                0                0   \n4              0          0  ...                0                0   \n...          ...        ...  ...              ...              ...   \n37513          0          0  ...                0                0   \n37514          0          0  ...                0                0   \n37515          0          0  ...                0                0   \n37516          0          0  ...                0                0   \n37517          0          0  ...                0                0   \n\n       day_of_month_24  day_of_month_25  day_of_month_26  day_of_month_27  \\\n0                    0                0                0                0   \n1                    0                0                0                0   \n2                    0                0                0                0   \n3                    0                0                0                0   \n4                    0                0                0                0   \n...                ...              ...              ...              ...   \n37513                0                0                0                0   \n37514                0                0                0                0   \n37515                0                0                0                0   \n37516                0                0                0                0   \n37517                0                0                0                0   \n\n       day_of_month_28  day_of_month_29  day_of_month_30  day_of_month_31  \n0                    0                1                0                0  \n1                    0                1                0                0  \n2                    0                1                0                0  \n3                    0                1                0                0  \n4                    0                1                0                0  \n...                ...              ...              ...              ...  \n37513                0                0                0                1  \n37514                0                0                0                1  \n37515                0                0                0                1  \n37516                0                0                0                1  \n37517                0                0                0                1  \n\n[37518 rows x 149 columns]",
      "text/html": "<div>\n<style scoped>\n    .dataframe tbody tr th:only-of-type {\n        vertical-align: middle;\n    }\n\n    .dataframe tbody tr th {\n        vertical-align: top;\n    }\n\n    .dataframe thead th {\n        text-align: right;\n    }\n</style>\n<table border=\"1\" class=\"dataframe\">\n  <thead>\n    <tr style=\"text-align: right;\">\n      <th></th>\n      <th>row_id</th>\n      <th>user_id</th>\n      <th>holiday</th>\n      <th>day_of_month</th>\n      <th>hour</th>\n      <th>min</th>\n      <th>sec</th>\n      <th>gate_id_-1</th>\n      <th>gate_id_0</th>\n      <th>gate_id_1</th>\n      <th>...</th>\n      <th>day_of_month_22</th>\n      <th>day_of_month_23</th>\n      <th>day_of_month_24</th>\n      <th>day_of_month_25</th>\n      <th>day_of_month_26</th>\n      <th>day_of_month_27</th>\n      <th>day_of_month_28</th>\n      <th>day_of_month_29</th>\n      <th>day_of_month_30</th>\n      <th>day_of_month_31</th>\n    </tr>\n  </thead>\n  <tbody>\n    <tr>\n      <th>0</th>\n      <td>0</td>\n      <td>18</td>\n      <td>0</td>\n      <td>29</td>\n      <td>9</td>\n      <td>8</td>\n      <td>54</td>\n      <td>0</td>\n      <td>0</td>\n      <td>0</td>\n      <td>...</td>\n      <td>0</td>\n      <td>0</td>\n      <td>0</td>\n      <td>0</td>\n      <td>0</td>\n      <td>0</td>\n      <td>0</td>\n      <td>1</td>\n      <td>0</td>\n      <td>0</td>\n    </tr>\n    <tr>\n      <th>1</th>\n      <td>1</td>\n      <td>18</td>\n      <td>0</td>\n      <td>29</td>\n      <td>9</td>\n      <td>9</td>\n      <td>54</td>\n      <td>0</td>\n      <td>0</td>\n      <td>0</td>\n      <td>...</td>\n      <td>0</td>\n      <td>0</td>\n      <td>0</td>\n      <td>0</td>\n      <td>0</td>\n      <td>0</td>\n      <td>0</td>\n      <td>1</td>\n      <td>0</td>\n      <td>0</td>\n    </tr>\n    <tr>\n      <th>2</th>\n      <td>2</td>\n      <td>18</td>\n      <td>0</td>\n      <td>29</td>\n      <td>9</td>\n      <td>9</td>\n      <td>54</td>\n      <td>0</td>\n      <td>0</td>\n      <td>0</td>\n      <td>...</td>\n      <td>0</td>\n      <td>0</td>\n      <td>0</td>\n      <td>0</td>\n      <td>0</td>\n      <td>0</td>\n      <td>0</td>\n      <td>1</td>\n      <td>0</td>\n      <td>0</td>\n    </tr>\n    <tr>\n      <th>3</th>\n      <td>3</td>\n      <td>18</td>\n      <td>0</td>\n      <td>29</td>\n      <td>9</td>\n      <td>10</td>\n      <td>6</td>\n      <td>0</td>\n      <td>0</td>\n      <td>0</td>\n      <td>...</td>\n      <td>0</td>\n      <td>0</td>\n      <td>0</td>\n      <td>0</td>\n      <td>0</td>\n      <td>0</td>\n      <td>0</td>\n      <td>1</td>\n      <td>0</td>\n      <td>0</td>\n    </tr>\n    <tr>\n      <th>4</th>\n      <td>4</td>\n      <td>18</td>\n      <td>0</td>\n      <td>29</td>\n      <td>9</td>\n      <td>10</td>\n      <td>8</td>\n      <td>0</td>\n      <td>0</td>\n      <td>0</td>\n      <td>...</td>\n      <td>0</td>\n      <td>0</td>\n      <td>0</td>\n      <td>0</td>\n      <td>0</td>\n      <td>0</td>\n      <td>0</td>\n      <td>1</td>\n      <td>0</td>\n      <td>0</td>\n    </tr>\n    <tr>\n      <th>...</th>\n      <td>...</td>\n      <td>...</td>\n      <td>...</td>\n      <td>...</td>\n      <td>...</td>\n      <td>...</td>\n      <td>...</td>\n      <td>...</td>\n      <td>...</td>\n      <td>...</td>\n      <td>...</td>\n      <td>...</td>\n      <td>...</td>\n      <td>...</td>\n      <td>...</td>\n      <td>...</td>\n      <td>...</td>\n      <td>...</td>\n      <td>...</td>\n      <td>...</td>\n      <td>...</td>\n    </tr>\n    <tr>\n      <th>37513</th>\n      <td>37513</td>\n      <td>6</td>\n      <td>1</td>\n      <td>31</td>\n      <td>20</td>\n      <td>38</td>\n      <td>56</td>\n      <td>0</td>\n      <td>0</td>\n      <td>0</td>\n      <td>...</td>\n      <td>0</td>\n      <td>0</td>\n      <td>0</td>\n      <td>0</td>\n      <td>0</td>\n      <td>0</td>\n      <td>0</td>\n      <td>0</td>\n      <td>0</td>\n      <td>1</td>\n    </tr>\n    <tr>\n      <th>37514</th>\n      <td>37514</td>\n      <td>6</td>\n      <td>1</td>\n      <td>31</td>\n      <td>20</td>\n      <td>39</td>\n      <td>22</td>\n      <td>0</td>\n      <td>0</td>\n      <td>0</td>\n      <td>...</td>\n      <td>0</td>\n      <td>0</td>\n      <td>0</td>\n      <td>0</td>\n      <td>0</td>\n      <td>0</td>\n      <td>0</td>\n      <td>0</td>\n      <td>0</td>\n      <td>1</td>\n    </tr>\n    <tr>\n      <th>37515</th>\n      <td>37515</td>\n      <td>6</td>\n      <td>1</td>\n      <td>31</td>\n      <td>20</td>\n      <td>39</td>\n      <td>23</td>\n      <td>0</td>\n      <td>0</td>\n      <td>0</td>\n      <td>...</td>\n      <td>0</td>\n      <td>0</td>\n      <td>0</td>\n      <td>0</td>\n      <td>0</td>\n      <td>0</td>\n      <td>0</td>\n      <td>0</td>\n      <td>0</td>\n      <td>1</td>\n    </tr>\n    <tr>\n      <th>37516</th>\n      <td>37516</td>\n      <td>6</td>\n      <td>1</td>\n      <td>31</td>\n      <td>20</td>\n      <td>39</td>\n      <td>31</td>\n      <td>0</td>\n      <td>0</td>\n      <td>0</td>\n      <td>...</td>\n      <td>0</td>\n      <td>0</td>\n      <td>0</td>\n      <td>0</td>\n      <td>0</td>\n      <td>0</td>\n      <td>0</td>\n      <td>0</td>\n      <td>0</td>\n      <td>1</td>\n    </tr>\n    <tr>\n      <th>37517</th>\n      <td>37517</td>\n      <td>6</td>\n      <td>1</td>\n      <td>31</td>\n      <td>20</td>\n      <td>39</td>\n      <td>31</td>\n      <td>0</td>\n      <td>0</td>\n      <td>0</td>\n      <td>...</td>\n      <td>0</td>\n      <td>0</td>\n      <td>0</td>\n      <td>0</td>\n      <td>0</td>\n      <td>0</td>\n      <td>0</td>\n      <td>0</td>\n      <td>0</td>\n      <td>1</td>\n    </tr>\n  </tbody>\n</table>\n<p>37518 rows × 149 columns</p>\n</div>"
     },
     "execution_count": 2,
     "metadata": {},
     "output_type": "execute_result"
    }
   ],
   "source": [
    "data_train"
   ],
   "metadata": {
    "collapsed": false
   }
  },
  {
   "cell_type": "code",
   "execution_count": null,
   "outputs": [],
   "source": [
    "# Тестовые данные"
   ],
   "metadata": {
    "collapsed": false
   }
  },
  {
   "cell_type": "code",
   "execution_count": 5,
   "outputs": [],
   "source": [
    "import pandas as pd\n",
    "from datetime import datetime\n",
    "from some_func import get_time_of_day, holidays\n",
    "from collections import Counter\n",
    "\n",
    "data_test = pd.read_csv('test.csv')\n",
    "\n",
    "# Преобразуем временную метку в объект datetime\n",
    "data_test['timestamp'] = pd.to_datetime(data_test['timestamp'])\n",
    "\n",
    "# Создаем признаки день недели, время суток, праздничный ли день\n",
    "data_test['day_of_the_week'] = data_test['timestamp'].dt.dayofweek\n",
    "data_test['part_of_the_day'] = data_test['timestamp'].dt.hour.apply(get_time_of_day)\n",
    "data_test['holiday'] = data_test['timestamp'].dt.date.astype(str).isin(holidays)\n",
    "\n",
    "# Создаем признак время года\n",
    "data_test['season'] = pd.cut(data_test['timestamp'].dt.month,\n",
    "                             bins=[0, 3, 6, 9, 12],\n",
    "                             labels=['winter', 'spring', 'summer', 'autumn'])\n",
    "\n",
    "# День месяца, часы, минуты, секунды\n",
    "data_test['day_of_month'] = data_test['timestamp'].dt.day\n",
    "data_test['hour'] = data_test['timestamp'].dt.hour\n",
    "data_test['min'] = data_test['timestamp'].dt.minute\n",
    "data_test['sec'] = data_test['timestamp'].dt.second\n",
    "\n",
    "# Векторизуем данные\n",
    "\"\"\"data_test = data_test.join(pd.get_dummies(data_test.loc[:, 'gate_id'], prefix='gate_id'))\n",
    "data_test = data_test.join(pd.get_dummies(data_test.loc[:, 'day_of_the_week'], prefix='day_of_week'))\n",
    "data_test = data_test.join(pd.get_dummies(data_test.loc[:, 'part_of_the_day'], prefix='part_of_day'))\n",
    "data_test = data_test.join(pd.get_dummies(data_test.loc[:, 'season'], prefix='season'))\"\"\"\n",
    "data_test['holiday'] = data_test['holiday'].astype(int)\n",
    "\n",
    "# Время между проходами через конкретный турникет и время между каждой записью\n",
    "data_test['time_between_passes'] = data_test.groupby('gate_id')['timestamp'].diff().dt.total_seconds()\n",
    "data_test['time_between_passes'] = data_test['time_between_passes'].fillna(0)\n",
    "data_test['delta'] = data_test['timestamp'].diff().dt.total_seconds()\n",
    "data_test['delta'] = data_test['delta'].fillna(0)\n",
    "\n",
    "# Еще немного векторизуем\n",
    "\"\"\"data_test = data_test.join(pd.get_dummies(data_test.loc[:, 'hour'], prefix='hour'))\n",
    "data_test = data_test.join(pd.get_dummies(data_test.loc[:, 'min'], prefix='min'))\n",
    "data_test = data_test.join(pd.get_dummies(data_test.loc[:, 'day_of_month'], prefix='day_of_month'))\"\"\"\n",
    "\n",
    "# Чистим и сохраняем в файл\n",
    "#data_test = data_test.drop(columns=['timestamp', 'gate_id', 'day_of_the_week', 'part_of_the_day', 'season'])\n",
    "data_test.to_csv('5_clear_test.csv', index=False)"
   ],
   "metadata": {
    "collapsed": false
   }
  },
  {
   "cell_type": "code",
   "execution_count": 6,
   "outputs": [
    {
     "data": {
      "text/plain": "      row_id           timestamp  gate_id  day_of_the_week part_of_the_day  \\\n0      37518 2023-01-03 08:21:00        9                1         morning   \n1      37519 2023-01-03 08:21:00        9                1         morning   \n2      37520 2023-01-03 08:21:18        5                1         morning   \n3      37521 2023-01-03 08:21:19        5                1         morning   \n4      37522 2023-01-03 08:21:39       10                1         morning   \n...      ...                 ...      ...              ...             ...   \n7120   44638 2023-02-24 19:43:36       11                4         evening   \n7121   44639 2023-02-24 19:44:00        4                4         evening   \n7122   44640 2023-02-24 19:44:01        4                4         evening   \n7123   44641 2023-02-24 19:44:09        9                4         evening   \n7124   44642 2023-02-24 19:44:09        9                4         evening   \n\n      holiday  season  day_of_month  hour  min  sec  time_between_passes  \\\n0           1  winter             3     8   21    0                  0.0   \n1           1  winter             3     8   21    0                  0.0   \n2           1  winter             3     8   21   18                  0.0   \n3           1  winter             3     8   21   19                  1.0   \n4           1  winter             3     8   21   39                  0.0   \n...       ...     ...           ...   ...  ...  ...                  ...   \n7120        1  winter            24    19   43   36               9669.0   \n7121        1  winter            24    19   44    0              20427.0   \n7122        1  winter            24    19   44    1                  1.0   \n7123        1  winter            24    19   44    9              20422.0   \n7124        1  winter            24    19   44    9                  0.0   \n\n       delta  \n0        0.0  \n1        0.0  \n2       18.0  \n3        1.0  \n4       20.0  \n...      ...  \n7120  9279.0  \n7121    24.0  \n7122     1.0  \n7123     8.0  \n7124     0.0  \n\n[7125 rows x 13 columns]",
      "text/html": "<div>\n<style scoped>\n    .dataframe tbody tr th:only-of-type {\n        vertical-align: middle;\n    }\n\n    .dataframe tbody tr th {\n        vertical-align: top;\n    }\n\n    .dataframe thead th {\n        text-align: right;\n    }\n</style>\n<table border=\"1\" class=\"dataframe\">\n  <thead>\n    <tr style=\"text-align: right;\">\n      <th></th>\n      <th>row_id</th>\n      <th>timestamp</th>\n      <th>gate_id</th>\n      <th>day_of_the_week</th>\n      <th>part_of_the_day</th>\n      <th>holiday</th>\n      <th>season</th>\n      <th>day_of_month</th>\n      <th>hour</th>\n      <th>min</th>\n      <th>sec</th>\n      <th>time_between_passes</th>\n      <th>delta</th>\n    </tr>\n  </thead>\n  <tbody>\n    <tr>\n      <th>0</th>\n      <td>37518</td>\n      <td>2023-01-03 08:21:00</td>\n      <td>9</td>\n      <td>1</td>\n      <td>morning</td>\n      <td>1</td>\n      <td>winter</td>\n      <td>3</td>\n      <td>8</td>\n      <td>21</td>\n      <td>0</td>\n      <td>0.0</td>\n      <td>0.0</td>\n    </tr>\n    <tr>\n      <th>1</th>\n      <td>37519</td>\n      <td>2023-01-03 08:21:00</td>\n      <td>9</td>\n      <td>1</td>\n      <td>morning</td>\n      <td>1</td>\n      <td>winter</td>\n      <td>3</td>\n      <td>8</td>\n      <td>21</td>\n      <td>0</td>\n      <td>0.0</td>\n      <td>0.0</td>\n    </tr>\n    <tr>\n      <th>2</th>\n      <td>37520</td>\n      <td>2023-01-03 08:21:18</td>\n      <td>5</td>\n      <td>1</td>\n      <td>morning</td>\n      <td>1</td>\n      <td>winter</td>\n      <td>3</td>\n      <td>8</td>\n      <td>21</td>\n      <td>18</td>\n      <td>0.0</td>\n      <td>18.0</td>\n    </tr>\n    <tr>\n      <th>3</th>\n      <td>37521</td>\n      <td>2023-01-03 08:21:19</td>\n      <td>5</td>\n      <td>1</td>\n      <td>morning</td>\n      <td>1</td>\n      <td>winter</td>\n      <td>3</td>\n      <td>8</td>\n      <td>21</td>\n      <td>19</td>\n      <td>1.0</td>\n      <td>1.0</td>\n    </tr>\n    <tr>\n      <th>4</th>\n      <td>37522</td>\n      <td>2023-01-03 08:21:39</td>\n      <td>10</td>\n      <td>1</td>\n      <td>morning</td>\n      <td>1</td>\n      <td>winter</td>\n      <td>3</td>\n      <td>8</td>\n      <td>21</td>\n      <td>39</td>\n      <td>0.0</td>\n      <td>20.0</td>\n    </tr>\n    <tr>\n      <th>...</th>\n      <td>...</td>\n      <td>...</td>\n      <td>...</td>\n      <td>...</td>\n      <td>...</td>\n      <td>...</td>\n      <td>...</td>\n      <td>...</td>\n      <td>...</td>\n      <td>...</td>\n      <td>...</td>\n      <td>...</td>\n      <td>...</td>\n    </tr>\n    <tr>\n      <th>7120</th>\n      <td>44638</td>\n      <td>2023-02-24 19:43:36</td>\n      <td>11</td>\n      <td>4</td>\n      <td>evening</td>\n      <td>1</td>\n      <td>winter</td>\n      <td>24</td>\n      <td>19</td>\n      <td>43</td>\n      <td>36</td>\n      <td>9669.0</td>\n      <td>9279.0</td>\n    </tr>\n    <tr>\n      <th>7121</th>\n      <td>44639</td>\n      <td>2023-02-24 19:44:00</td>\n      <td>4</td>\n      <td>4</td>\n      <td>evening</td>\n      <td>1</td>\n      <td>winter</td>\n      <td>24</td>\n      <td>19</td>\n      <td>44</td>\n      <td>0</td>\n      <td>20427.0</td>\n      <td>24.0</td>\n    </tr>\n    <tr>\n      <th>7122</th>\n      <td>44640</td>\n      <td>2023-02-24 19:44:01</td>\n      <td>4</td>\n      <td>4</td>\n      <td>evening</td>\n      <td>1</td>\n      <td>winter</td>\n      <td>24</td>\n      <td>19</td>\n      <td>44</td>\n      <td>1</td>\n      <td>1.0</td>\n      <td>1.0</td>\n    </tr>\n    <tr>\n      <th>7123</th>\n      <td>44641</td>\n      <td>2023-02-24 19:44:09</td>\n      <td>9</td>\n      <td>4</td>\n      <td>evening</td>\n      <td>1</td>\n      <td>winter</td>\n      <td>24</td>\n      <td>19</td>\n      <td>44</td>\n      <td>9</td>\n      <td>20422.0</td>\n      <td>8.0</td>\n    </tr>\n    <tr>\n      <th>7124</th>\n      <td>44642</td>\n      <td>2023-02-24 19:44:09</td>\n      <td>9</td>\n      <td>4</td>\n      <td>evening</td>\n      <td>1</td>\n      <td>winter</td>\n      <td>24</td>\n      <td>19</td>\n      <td>44</td>\n      <td>9</td>\n      <td>0.0</td>\n      <td>0.0</td>\n    </tr>\n  </tbody>\n</table>\n<p>7125 rows × 13 columns</p>\n</div>"
     },
     "execution_count": 6,
     "metadata": {},
     "output_type": "execute_result"
    }
   ],
   "source": [
    "data_test"
   ],
   "metadata": {
    "collapsed": false
   }
  },
  {
   "cell_type": "markdown",
   "source": [
    "# Pipeline"
   ],
   "metadata": {
    "collapsed": false
   }
  },
  {
   "cell_type": "code",
   "execution_count": 15,
   "outputs": [
    {
     "name": "stdout",
     "output_type": "stream",
     "text": [
      "(7125, 11) (37518, 11)\n",
      "(7125, 142) (37518, 142)\n"
     ]
    },
    {
     "name": "stderr",
     "output_type": "stream",
     "text": [
      "/home/pavel/.local/lib/python3.10/site-packages/sklearn/preprocessing/_encoders.py:868: FutureWarning: `sparse` was renamed to `sparse_output` in version 1.2 and will be removed in 1.4. `sparse_output` is ignored unless you leave `sparse` to its default value.\n",
      "  warnings.warn(\n"
     ]
    },
    {
     "data": {
      "text/plain": "array([[0.0000e+00, 0.0000e+00, 1.0000e+00, ..., 0.0000e+00, 0.0000e+00,\n        0.0000e+00],\n       [0.0000e+00, 0.0000e+00, 1.0000e+00, ..., 0.0000e+00, 0.0000e+00,\n        0.0000e+00],\n       [0.0000e+00, 0.0000e+00, 1.0000e+00, ..., 1.8000e+01, 0.0000e+00,\n        1.8000e+01],\n       ...,\n       [0.0000e+00, 0.0000e+00, 0.0000e+00, ..., 1.0000e+00, 1.0000e+00,\n        1.0000e+00],\n       [0.0000e+00, 0.0000e+00, 0.0000e+00, ..., 9.0000e+00, 2.0422e+04,\n        8.0000e+00],\n       [0.0000e+00, 0.0000e+00, 0.0000e+00, ..., 9.0000e+00, 0.0000e+00,\n        0.0000e+00]])"
     },
     "execution_count": 15,
     "metadata": {},
     "output_type": "execute_result"
    }
   ],
   "source": [
    "from sklearn.preprocessing import OneHotEncoder\n",
    "from sklearn.compose import make_column_transformer\n",
    "import pandas as pd\n",
    "from datetime import datetime\n",
    "from some_func import get_time_of_day, holidays\n",
    "import numpy as np\n",
    "\n",
    "def get_features(data: pd.DataFrame) -> pd.DataFrame:\n",
    "\n",
    "    data = data.copy()\n",
    "    # Преобразуем временную метку в объект datetime\n",
    "    data['timestamp'] = pd.to_datetime(data['timestamp'])\n",
    "\n",
    "    # Создаем признаки день недели, время суток, праздничный ли день\n",
    "    data['day_of_the_week'] = data['timestamp'].dt.dayofweek\n",
    "    data['part_of_the_day'] = data['timestamp'].dt.hour.apply(get_time_of_day)\n",
    "    data['holiday'] = data['timestamp'].dt.date.astype(str).isin(holidays)\n",
    "    data['holiday'] = data['holiday'].astype(int)\n",
    "\n",
    "    # Создаем признак время года\n",
    "    data['season'] = pd.cut(data['timestamp'].dt.month,\n",
    "                                 bins=[0, 3, 6, 9, 12],\n",
    "                                 labels=['winter', 'spring', 'summer', 'autumn'])\n",
    "\n",
    "    # День месяца, часы, минуты, секунды\n",
    "    data['day_of_month'] = data['timestamp'].dt.day\n",
    "    data['hour'] = data['timestamp'].dt.hour\n",
    "    data['min'] = data['timestamp'].dt.minute\n",
    "    data['sec'] = data['timestamp'].dt.second\n",
    "\n",
    "    # Время между проходами через конкретный турникет и время между каждой записью\n",
    "    data['time_between_passes'] = data.groupby('gate_id')['timestamp'].diff().dt.total_seconds()\n",
    "    data['time_between_passes'] = data['time_between_passes'].fillna(0)\n",
    "    data['delta'] = data['timestamp'].diff().dt.total_seconds()\n",
    "    data['delta'] = data['delta'].fillna(0)\n",
    "\n",
    "    # Чистим\n",
    "    data = data.drop(columns=['timestamp', 'row_id',])\n",
    "\n",
    "    return data\n",
    "\n",
    "\n",
    "\n",
    "data_test = pd.read_csv('test.csv')\n",
    "data_train = pd.read_csv('train.csv').drop(columns='user_id')\n",
    "\n",
    "data_test = get_features(data_test)\n",
    "data_train = get_features(data_train)\n",
    "print(data_test.shape, data_train.shape)\n",
    "\n",
    "ohe = make_column_transformer((OneHotEncoder(handle_unknown='ignore', sparse=False), ['day_of_month', 'hour', 'min', 'gate_id', 'day_of_the_week', 'part_of_the_day', 'season']),\n",
    "                              remainder='passthrough')\n",
    "\n",
    "vectorized_train = ohe.fit_transform(data_train)\n",
    "vectorized_test = ohe.transform(data_test)\n",
    "print(vectorized_test.shape, vectorized_train.shape)\n",
    "\n",
    "y_train = np.array(pd.read_csv('train.csv').user_id, dtype=int)\n",
    "\n",
    "vectorized_test\n"
   ],
   "metadata": {
    "collapsed": false
   }
  },
  {
   "cell_type": "code",
   "execution_count": null,
   "outputs": [],
   "source": [],
   "metadata": {
    "collapsed": false
   }
  }
 ],
 "metadata": {
  "kernelspec": {
   "display_name": "Python 3",
   "language": "python",
   "name": "python3"
  },
  "language_info": {
   "codemirror_mode": {
    "name": "ipython",
    "version": 2
   },
   "file_extension": ".py",
   "mimetype": "text/x-python",
   "name": "python",
   "nbconvert_exporter": "python",
   "pygments_lexer": "ipython2",
   "version": "2.7.6"
  }
 },
 "nbformat": 4,
 "nbformat_minor": 0
}
